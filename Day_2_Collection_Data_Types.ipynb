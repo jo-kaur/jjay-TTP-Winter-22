{
  "nbformat": 4,
  "nbformat_minor": 0,
  "metadata": {
    "colab": {
      "name": "Day 2 Collection Data Types.ipynb",
      "provenance": [],
      "collapsed_sections": [
        "ODmNl5h_4598",
        "ynFaFTzg6EfT"
      ],
      "authorship_tag": "ABX9TyPBMJyTGNwfjmvIT7AKwETo",
      "include_colab_link": true
    },
    "kernelspec": {
      "name": "python3",
      "display_name": "Python 3"
    },
    "language_info": {
      "name": "python"
    }
  },
  "cells": [
    {
      "cell_type": "markdown",
      "metadata": {
        "id": "view-in-github",
        "colab_type": "text"
      },
      "source": [
        "<a href=\"https://colab.research.google.com/github/jo-kaur/jjay-TTP-Winter-22/blob/main/Day_2_Collection_Data_Types.ipynb\" target=\"_parent\"><img src=\"https://colab.research.google.com/assets/colab-badge.svg\" alt=\"Open In Colab\"/></a>"
      ]
    },
    {
      "cell_type": "markdown",
      "source": [
        "# Collection Data Types\n",
        "\n",
        "Lists, Dictionaries, and Tuples"
      ],
      "metadata": {
        "id": "jNTRfAT20_fd"
      }
    },
    {
      "cell_type": "markdown",
      "source": [
        "# Lists\n",
        "\n",
        "Lists can be thought of the most general version of a sequence in python. Unlike Strinds, they are mutable, meaning the elements inside the list can be changed!\n"
      ],
      "metadata": {
        "id": "gSNtQKpI1dko"
      }
    },
    {
      "cell_type": "code",
      "source": [
        "#assign a list to a variable named my_list\n",
        "my_list= [1,2,3]"
      ],
      "metadata": {
        "id": "kNi63_i917A1"
      },
      "execution_count": null,
      "outputs": []
    },
    {
      "cell_type": "code",
      "source": [
        "my_list"
      ],
      "metadata": {
        "colab": {
          "base_uri": "https://localhost:8080/"
        },
        "id": "qyxt0WFz17z3",
        "outputId": "116aa013-7f7d-4135-8874-c809dc72f723"
      },
      "execution_count": null,
      "outputs": [
        {
          "output_type": "execute_result",
          "data": {
            "text/plain": [
              "[1, 2, 3]"
            ]
          },
          "metadata": {},
          "execution_count": 8
        }
      ]
    },
    {
      "cell_type": "code",
      "source": [
        "my_list = ['A string',23,100.232,'o']"
      ],
      "metadata": {
        "id": "VqYPsOpF4B17"
      },
      "execution_count": null,
      "outputs": []
    },
    {
      "cell_type": "code",
      "source": [
        "my_list"
      ],
      "metadata": {
        "colab": {
          "base_uri": "https://localhost:8080/"
        },
        "id": "Tmmy-DfY4ENx",
        "outputId": "f58dc0cc-ddaa-400d-ef3d-c7defedecb1a"
      },
      "execution_count": null,
      "outputs": [
        {
          "output_type": "execute_result",
          "data": {
            "text/plain": [
              "['A string', 23, 100.232, 'o']"
            ]
          },
          "metadata": {},
          "execution_count": 10
        }
      ]
    },
    {
      "cell_type": "code",
      "source": [
        "len(my_list)"
      ],
      "metadata": {
        "colab": {
          "base_uri": "https://localhost:8080/"
        },
        "id": "JD3wLdDP17vL",
        "outputId": "f76d04e7-edb1-4e45-897b-99cc0a0412e7"
      },
      "execution_count": null,
      "outputs": [
        {
          "output_type": "execute_result",
          "data": {
            "text/plain": [
              "4"
            ]
          },
          "metadata": {},
          "execution_count": 11
        }
      ]
    },
    {
      "cell_type": "markdown",
      "source": [
        "### Indexing and Slicing \n",
        "\n",
        "Indexing and slicing works just like strings"
      ],
      "metadata": {
        "id": "2l_OscRq17qv"
      }
    },
    {
      "cell_type": "code",
      "source": [
        "my_list = ['one','two','three',4,5]"
      ],
      "metadata": {
        "id": "s6B9U-8Y17nl"
      },
      "execution_count": null,
      "outputs": []
    },
    {
      "cell_type": "code",
      "source": [
        "# Grab element at index 0\n",
        "my_list[0]"
      ],
      "metadata": {
        "colab": {
          "base_uri": "https://localhost:8080/",
          "height": 35
        },
        "id": "kxklVL1w17kR",
        "outputId": "8edb6210-50fc-4cd4-8987-f6208d162afe"
      },
      "execution_count": null,
      "outputs": [
        {
          "output_type": "execute_result",
          "data": {
            "application/vnd.google.colaboratory.intrinsic+json": {
              "type": "string"
            },
            "text/plain": [
              "'one'"
            ]
          },
          "metadata": {},
          "execution_count": 24
        }
      ]
    },
    {
      "cell_type": "code",
      "source": [
        "# Grab index 1 and everything past it\n",
        "my_list[1:]"
      ],
      "metadata": {
        "colab": {
          "base_uri": "https://localhost:8080/"
        },
        "id": "d7cHP1xB17gc",
        "outputId": "d10fec7b-c3d9-4079-b9b1-823d32a71a85"
      },
      "execution_count": null,
      "outputs": [
        {
          "output_type": "execute_result",
          "data": {
            "text/plain": [
              "['two', 'three', 4, 5]"
            ]
          },
          "metadata": {},
          "execution_count": 25
        }
      ]
    },
    {
      "cell_type": "code",
      "source": [
        "# Grab everything UP TO index 3\n",
        "my_list[:3]"
      ],
      "metadata": {
        "colab": {
          "base_uri": "https://localhost:8080/"
        },
        "id": "KB6q6WqC17dK",
        "outputId": "222a6c5a-f1e0-4806-cd5b-dcc252c793ee"
      },
      "execution_count": null,
      "outputs": [
        {
          "output_type": "execute_result",
          "data": {
            "text/plain": [
              "['one', 'two', 'three']"
            ]
          },
          "metadata": {},
          "execution_count": 26
        }
      ]
    },
    {
      "cell_type": "code",
      "source": [
        "my_list"
      ],
      "metadata": {
        "colab": {
          "base_uri": "https://localhost:8080/"
        },
        "id": "HicMZUR017Yx",
        "outputId": "c56467a7-9be9-4869-d0f5-87767d323d58"
      },
      "execution_count": null,
      "outputs": [
        {
          "output_type": "execute_result",
          "data": {
            "text/plain": [
              "['one', 'two', 'three', 4, 5]"
            ]
          },
          "metadata": {},
          "execution_count": 27
        }
      ]
    },
    {
      "cell_type": "code",
      "source": [
        "#We can also use + to concatenate lists, just like we did for strings.\n",
        "my_list + ['new item']"
      ],
      "metadata": {
        "colab": {
          "base_uri": "https://localhost:8080/"
        },
        "id": "MQasKouB4RVA",
        "outputId": "77781106-6868-4dde-8c27-0ee94ff6eff4"
      },
      "execution_count": null,
      "outputs": [
        {
          "output_type": "execute_result",
          "data": {
            "text/plain": [
              "['one', 'two', 'three', 4, 5, 'new item']"
            ]
          },
          "metadata": {},
          "execution_count": 28
        }
      ]
    },
    {
      "cell_type": "code",
      "source": [
        "# Note: This doesn't actually change the original list!\n",
        "my_list"
      ],
      "metadata": {
        "colab": {
          "base_uri": "https://localhost:8080/"
        },
        "id": "zLsUv19o4RC0",
        "outputId": "2e5f8d36-146c-42e1-9ce4-11959d75b114"
      },
      "execution_count": null,
      "outputs": [
        {
          "output_type": "execute_result",
          "data": {
            "text/plain": [
              "['one', 'two', 'three', 4, 5]"
            ]
          },
          "metadata": {},
          "execution_count": 29
        }
      ]
    },
    {
      "cell_type": "code",
      "source": [
        "# we would have to reassign the list to make the change permanent.\n",
        "# Reassign\n",
        "my_list = my_list + ['add new item permanently']"
      ],
      "metadata": {
        "id": "Rj2TUXr-4Q_8"
      },
      "execution_count": null,
      "outputs": []
    },
    {
      "cell_type": "code",
      "source": [
        "my_list"
      ],
      "metadata": {
        "colab": {
          "base_uri": "https://localhost:8080/"
        },
        "id": "5_MP07iR4Q9I",
        "outputId": "3b9244f2-ebbf-4bd9-c2ed-81ec64f73a48"
      },
      "execution_count": null,
      "outputs": [
        {
          "output_type": "execute_result",
          "data": {
            "text/plain": [
              "['one', 'two', 'three', 4, 5, 'add new item permanently']"
            ]
          },
          "metadata": {},
          "execution_count": 31
        }
      ]
    },
    {
      "cell_type": "code",
      "source": [
        "my_list.append('something')"
      ],
      "metadata": {
        "id": "14x1MdBO4Q5X"
      },
      "execution_count": null,
      "outputs": []
    },
    {
      "cell_type": "code",
      "source": [
        "my_list"
      ],
      "metadata": {
        "colab": {
          "base_uri": "https://localhost:8080/"
        },
        "id": "Q-MzgfXa4Q1m",
        "outputId": "1d27f5cd-6d12-4abb-db4c-09f284961f15"
      },
      "execution_count": null,
      "outputs": [
        {
          "output_type": "execute_result",
          "data": {
            "text/plain": [
              "['one', 'two', 'three', 4, 5, 'add new item permanently', 'something']"
            ]
          },
          "metadata": {},
          "execution_count": 33
        }
      ]
    },
    {
      "cell_type": "code",
      "source": [
        "# Make the list double\n",
        "my_list * 2"
      ],
      "metadata": {
        "colab": {
          "base_uri": "https://localhost:8080/"
        },
        "id": "322dXTy54QvO",
        "outputId": "fcd4c90c-8265-413b-d35f-9396b26b7d7a"
      },
      "execution_count": null,
      "outputs": [
        {
          "output_type": "execute_result",
          "data": {
            "text/plain": [
              "['one',\n",
              " 'two',\n",
              " 'three',\n",
              " 4,\n",
              " 5,\n",
              " 'add new item permanently',\n",
              " 'something',\n",
              " 'one',\n",
              " 'two',\n",
              " 'three',\n",
              " 4,\n",
              " 5,\n",
              " 'add new item permanently',\n",
              " 'something']"
            ]
          },
          "metadata": {},
          "execution_count": 34
        }
      ]
    },
    {
      "cell_type": "code",
      "source": [
        "num = [1, 2, 3, 4, 5, 6]"
      ],
      "metadata": {
        "id": "Mu9R67Bw4QqO"
      },
      "execution_count": null,
      "outputs": []
    },
    {
      "cell_type": "code",
      "source": [
        "num"
      ],
      "metadata": {
        "colab": {
          "base_uri": "https://localhost:8080/"
        },
        "id": "zVML4CRH46JR",
        "outputId": "acc74528-0391-4d9e-c9c8-b2e1fe6d629f"
      },
      "execution_count": null,
      "outputs": [
        {
          "output_type": "execute_result",
          "data": {
            "text/plain": [
              "[1, 2, 3, 4, 5, 6]"
            ]
          },
          "metadata": {},
          "execution_count": 36
        }
      ]
    },
    {
      "cell_type": "code",
      "source": [
        "num[-1] = 9"
      ],
      "metadata": {
        "id": "xxkpFRVn46F2"
      },
      "execution_count": null,
      "outputs": []
    },
    {
      "cell_type": "code",
      "source": [
        "num"
      ],
      "metadata": {
        "colab": {
          "base_uri": "https://localhost:8080/"
        },
        "id": "57gaABgr46D6",
        "outputId": "2944986c-69c6-42ab-9321-31cef3c7ade3"
      },
      "execution_count": null,
      "outputs": [
        {
          "output_type": "execute_result",
          "data": {
            "text/plain": [
              "[1, 2, 3, 4, 5, 9]"
            ]
          },
          "metadata": {},
          "execution_count": 38
        }
      ]
    },
    {
      "cell_type": "markdown",
      "source": [
        "### Basic List Methods"
      ],
      "metadata": {
        "id": "ODmNl5h_4598"
      }
    },
    {
      "cell_type": "code",
      "source": [
        "# Create a new list\n",
        "l = [1,2,3]"
      ],
      "metadata": {
        "id": "x0ezTWwL457x"
      },
      "execution_count": 71,
      "outputs": []
    },
    {
      "cell_type": "code",
      "source": [
        "# Append\n",
        "l.append('append me!')"
      ],
      "metadata": {
        "id": "7vJ32sbE452N"
      },
      "execution_count": 72,
      "outputs": []
    },
    {
      "cell_type": "code",
      "source": [
        "l.pop(0)"
      ],
      "metadata": {
        "colab": {
          "base_uri": "https://localhost:8080/"
        },
        "id": "ZP3RWNgK45yf",
        "outputId": "8ad7125c-1497-4394-c14a-77d8733f3a60"
      },
      "execution_count": 73,
      "outputs": [
        {
          "output_type": "execute_result",
          "data": {
            "text/plain": [
              "1"
            ]
          },
          "metadata": {},
          "execution_count": 73
        }
      ]
    },
    {
      "cell_type": "code",
      "source": [
        "l"
      ],
      "metadata": {
        "colab": {
          "base_uri": "https://localhost:8080/"
        },
        "id": "P8OC2OUC45se",
        "outputId": "e1aa5f97-6b0c-4f10-d9e6-57dce01b220e"
      },
      "execution_count": 74,
      "outputs": [
        {
          "output_type": "execute_result",
          "data": {
            "text/plain": [
              "[2, 3, 'append me!']"
            ]
          },
          "metadata": {},
          "execution_count": 74
        }
      ]
    },
    {
      "cell_type": "code",
      "source": [
        "mlist=['string']"
      ],
      "metadata": {
        "id": "o6recUpB6Eqw"
      },
      "execution_count": 75,
      "outputs": []
    },
    {
      "cell_type": "code",
      "source": [
        "len(mlist)"
      ],
      "metadata": {
        "colab": {
          "base_uri": "https://localhost:8080/"
        },
        "id": "8L6zD0FU6EnL",
        "outputId": "1d9ba08a-01f9-4afc-f0f2-086ee6fb1e67"
      },
      "execution_count": 76,
      "outputs": [
        {
          "output_type": "execute_result",
          "data": {
            "text/plain": [
              "1"
            ]
          },
          "metadata": {},
          "execution_count": 76
        }
      ]
    },
    {
      "cell_type": "code",
      "source": [
        "#Use pop to \"pop off\" an item from the list. By default pop takes off the last index, \n",
        "# but you can also specify which index to pop off. \n",
        "l.pop()"
      ],
      "metadata": {
        "colab": {
          "base_uri": "https://localhost:8080/",
          "height": 0
        },
        "id": "xOCACUyw6EjJ",
        "outputId": "6c19da92-4eda-48c8-f7b0-b6c7cf2a6b7f"
      },
      "execution_count": 77,
      "outputs": [
        {
          "output_type": "execute_result",
          "data": {
            "application/vnd.google.colaboratory.intrinsic+json": {
              "type": "string"
            },
            "text/plain": [
              "'append me!'"
            ]
          },
          "metadata": {},
          "execution_count": 77
        }
      ]
    },
    {
      "cell_type": "markdown",
      "source": [
        "### The Sort and Reverse Methods"
      ],
      "metadata": {
        "id": "ynFaFTzg6EfT"
      }
    },
    {
      "cell_type": "code",
      "source": [
        "new_list = ['a','e','x','b','c']\n",
        "new_list"
      ],
      "metadata": {
        "colab": {
          "base_uri": "https://localhost:8080/"
        },
        "id": "goOlHSg06EWm",
        "outputId": "fd06c8da-a9bf-4139-fbc4-24d5af246a57"
      },
      "execution_count": 78,
      "outputs": [
        {
          "output_type": "execute_result",
          "data": {
            "text/plain": [
              "['a', 'e', 'x', 'b', 'c']"
            ]
          },
          "metadata": {},
          "execution_count": 78
        }
      ]
    },
    {
      "cell_type": "code",
      "source": [
        "# Use reverse to reverse order (this is permanent!)\n",
        "new_list.reverse()\n"
      ],
      "metadata": {
        "id": "yyjXCZ8X6EOY"
      },
      "execution_count": 79,
      "outputs": []
    },
    {
      "cell_type": "code",
      "source": [
        "new_list"
      ],
      "metadata": {
        "colab": {
          "base_uri": "https://localhost:8080/"
        },
        "id": "OFX_AAiM6EJn",
        "outputId": "d5de7839-1abb-44d5-97d6-fa2eab30d93d"
      },
      "execution_count": 80,
      "outputs": [
        {
          "output_type": "execute_result",
          "data": {
            "text/plain": [
              "['c', 'b', 'x', 'e', 'a']"
            ]
          },
          "metadata": {},
          "execution_count": 80
        }
      ]
    },
    {
      "cell_type": "code",
      "source": [
        "# Use sort to sort the list (in this case alphabetical order, but for numbers it will go ascending)\n",
        "new_list.sort()"
      ],
      "metadata": {
        "id": "IAoPlGlV7OSr"
      },
      "execution_count": 81,
      "outputs": []
    },
    {
      "cell_type": "code",
      "source": [
        "new_list"
      ],
      "metadata": {
        "colab": {
          "base_uri": "https://localhost:8080/"
        },
        "id": "QSmD-OWt7OE0",
        "outputId": "f13d5687-e49e-4cfa-eb97-b97431e276d8"
      },
      "execution_count": 82,
      "outputs": [
        {
          "output_type": "execute_result",
          "data": {
            "text/plain": [
              "['a', 'b', 'c', 'e', 'x']"
            ]
          },
          "metadata": {},
          "execution_count": 82
        }
      ]
    },
    {
      "cell_type": "code",
      "source": [
        "nlist = ['a', 'x', 't', str(12), str(55)]"
      ],
      "metadata": {
        "id": "e-mTYY5p7N6e"
      },
      "execution_count": 83,
      "outputs": []
    },
    {
      "cell_type": "code",
      "source": [
        "nlist.sort()"
      ],
      "metadata": {
        "id": "ddGWKqC-7Nwz"
      },
      "execution_count": 84,
      "outputs": []
    },
    {
      "cell_type": "code",
      "source": [
        "nlist"
      ],
      "metadata": {
        "colab": {
          "base_uri": "https://localhost:8080/"
        },
        "id": "npjklzKW7Nl3",
        "outputId": "f82bdcbe-fe25-410a-96e2-070672ff28aa"
      },
      "execution_count": 85,
      "outputs": [
        {
          "output_type": "execute_result",
          "data": {
            "text/plain": [
              "['12', '55', 'a', 't', 'x']"
            ]
          },
          "metadata": {},
          "execution_count": 85
        }
      ]
    },
    {
      "cell_type": "markdown",
      "source": [
        "#Dictionaries"
      ],
      "metadata": {
        "id": "nfjUWBYQ-llZ"
      }
    },
    {
      "cell_type": "code",
      "source": [
        "# Make a dictionary with {} and : to signify a key and a value\n",
        "my_dict = {'key1':'value1','key2':'value2'}"
      ],
      "metadata": {
        "id": "WcJ8ff-B-lvo"
      },
      "execution_count": 86,
      "outputs": []
    },
    {
      "cell_type": "code",
      "source": [
        "# Call values by their key\n",
        "my_dict['key2']"
      ],
      "metadata": {
        "colab": {
          "base_uri": "https://localhost:8080/",
          "height": 0
        },
        "id": "pKG0hkwI-lzx",
        "outputId": "61d5044d-d547-4fad-c71c-3e21c6980959"
      },
      "execution_count": 87,
      "outputs": [
        {
          "output_type": "execute_result",
          "data": {
            "application/vnd.google.colaboratory.intrinsic+json": {
              "type": "string"
            },
            "text/plain": [
              "'value2'"
            ]
          },
          "metadata": {},
          "execution_count": 87
        }
      ]
    },
    {
      "cell_type": "code",
      "source": [
        "# Its important to note that dictionaries are very flexible in the data types they can hold.\n",
        "my_dict = {'key1':123,'key2':[12,23,33],'key3':['item0','item1','item2']}"
      ],
      "metadata": {
        "id": "Lc0nxhix-l43"
      },
      "execution_count": 88,
      "outputs": []
    },
    {
      "cell_type": "code",
      "source": [
        "#Lets call items from the dictionary\n",
        "my_dict['key3']"
      ],
      "metadata": {
        "colab": {
          "base_uri": "https://localhost:8080/"
        },
        "id": "tQjAj1TM-l9b",
        "outputId": "09be3399-94fe-4d60-886f-fce55454c296"
      },
      "execution_count": 89,
      "outputs": [
        {
          "output_type": "execute_result",
          "data": {
            "text/plain": [
              "['item0', 'item1', 'item2']"
            ]
          },
          "metadata": {},
          "execution_count": 89
        }
      ]
    },
    {
      "cell_type": "code",
      "source": [
        "# Can call an index on that value\n",
        "my_dict['key3'][0]"
      ],
      "metadata": {
        "colab": {
          "base_uri": "https://localhost:8080/",
          "height": 0
        },
        "id": "5--VFbp7--Ne",
        "outputId": "623a2714-52e7-43c9-9a5f-617e58209afa"
      },
      "execution_count": 90,
      "outputs": [
        {
          "output_type": "execute_result",
          "data": {
            "application/vnd.google.colaboratory.intrinsic+json": {
              "type": "string"
            },
            "text/plain": [
              "'item0'"
            ]
          },
          "metadata": {},
          "execution_count": 90
        }
      ]
    },
    {
      "cell_type": "code",
      "source": [
        "#Can then even call methods on that value\n",
        "my_dict['key3'][0].upper()"
      ],
      "metadata": {
        "colab": {
          "base_uri": "https://localhost:8080/",
          "height": 0
        },
        "id": "avUmx7re--bO",
        "outputId": "4effbb3e-bfd4-4079-85ad-23a73562d32d"
      },
      "execution_count": 91,
      "outputs": [
        {
          "output_type": "execute_result",
          "data": {
            "application/vnd.google.colaboratory.intrinsic+json": {
              "type": "string"
            },
            "text/plain": [
              "'ITEM0'"
            ]
          },
          "metadata": {},
          "execution_count": 91
        }
      ]
    },
    {
      "cell_type": "code",
      "source": [
        "my_dict['key1']"
      ],
      "metadata": {
        "colab": {
          "base_uri": "https://localhost:8080/"
        },
        "id": "i9PeNhzN--lm",
        "outputId": "023d3ce2-17a5-4f5e-d5eb-51a989cee690"
      },
      "execution_count": 92,
      "outputs": [
        {
          "output_type": "execute_result",
          "data": {
            "text/plain": [
              "123"
            ]
          },
          "metadata": {},
          "execution_count": 92
        }
      ]
    },
    {
      "cell_type": "code",
      "source": [
        "# We can also create keys by assignment. For instance if we started off with an empty dictionary, we could continually add to it.\n",
        "# Create a new dictionary\n",
        "d = {}"
      ],
      "metadata": {
        "id": "ju14fER5--rW"
      },
      "execution_count": 93,
      "outputs": []
    },
    {
      "cell_type": "code",
      "source": [
        "# Create a new key through assignment\n",
        "d['animal'] = 'Dog'"
      ],
      "metadata": {
        "id": "4jGPoGLD--ub"
      },
      "execution_count": 94,
      "outputs": []
    },
    {
      "cell_type": "code",
      "source": [
        "# Can do this with any object\n",
        "d['answer'] = 42"
      ],
      "metadata": {
        "id": "DNQ0alPI_7Td"
      },
      "execution_count": 95,
      "outputs": []
    },
    {
      "cell_type": "code",
      "source": [
        "d"
      ],
      "metadata": {
        "colab": {
          "base_uri": "https://localhost:8080/"
        },
        "id": "J8eJOpxE_7Eg",
        "outputId": "14869e36-ecce-4132-df81-8bf507d7ffd9"
      },
      "execution_count": 96,
      "outputs": [
        {
          "output_type": "execute_result",
          "data": {
            "text/plain": [
              "{'animal': 'Dog', 'answer': 42}"
            ]
          },
          "metadata": {},
          "execution_count": 96
        }
      ]
    },
    {
      "cell_type": "markdown",
      "source": [
        "### Dictionary Methods"
      ],
      "metadata": {
        "id": "SY5kZTxZ_69C"
      }
    },
    {
      "cell_type": "code",
      "source": [
        "# Create a typical dictionary\n",
        "d = {'key1':1,'key2':2,'key3':3}"
      ],
      "metadata": {
        "id": "DzeEB2CS_6yo"
      },
      "execution_count": 97,
      "outputs": []
    },
    {
      "cell_type": "code",
      "source": [
        "# Method to return a list of all keys \n",
        "d.keys()"
      ],
      "metadata": {
        "colab": {
          "base_uri": "https://localhost:8080/"
        },
        "id": "_QCOsWVAAbcU",
        "outputId": "49ca960e-4757-4045-b223-322222fc9a8c"
      },
      "execution_count": 98,
      "outputs": [
        {
          "output_type": "execute_result",
          "data": {
            "text/plain": [
              "dict_keys(['key1', 'key2', 'key3'])"
            ]
          },
          "metadata": {},
          "execution_count": 98
        }
      ]
    },
    {
      "cell_type": "code",
      "source": [
        "# Method to grab all values\n",
        "d.values()"
      ],
      "metadata": {
        "colab": {
          "base_uri": "https://localhost:8080/"
        },
        "id": "Ekufs36RAbNf",
        "outputId": "68bb6df6-86b1-4edc-8eae-f76c97327d46"
      },
      "execution_count": 99,
      "outputs": [
        {
          "output_type": "execute_result",
          "data": {
            "text/plain": [
              "dict_values([1, 2, 3])"
            ]
          },
          "metadata": {},
          "execution_count": 99
        }
      ]
    },
    {
      "cell_type": "code",
      "source": [
        "# Method to return tuples of all items  (we'll learn about tuples soon)\n",
        "d.items()"
      ],
      "metadata": {
        "colab": {
          "base_uri": "https://localhost:8080/"
        },
        "id": "BLhlZOSKAa9G",
        "outputId": "ad55210d-67bb-438d-c83a-ed163dfd4379"
      },
      "execution_count": 100,
      "outputs": [
        {
          "output_type": "execute_result",
          "data": {
            "text/plain": [
              "dict_items([('key1', 1), ('key2', 2), ('key3', 3)])"
            ]
          },
          "metadata": {},
          "execution_count": 100
        }
      ]
    },
    {
      "cell_type": "markdown",
      "source": [
        "#Tuples\n",
        "\n",
        "In Python tuples are very similar to lists, however, unlike lists they are immutable meaning they can not be changed. You would use tuples to present things that shouldn't be changed, such as days of the week, or dates on a calendar."
      ],
      "metadata": {
        "id": "eWjtMFCtAa5D"
      }
    },
    {
      "cell_type": "code",
      "source": [
        "# Can create a tuple with mixed types\n",
        "t = (1,2,3)"
      ],
      "metadata": {
        "id": "M7CyjtNcOZ5V"
      },
      "execution_count": 101,
      "outputs": []
    },
    {
      "cell_type": "code",
      "source": [
        "# Check len just like a list\n",
        "len(t)"
      ],
      "metadata": {
        "id": "96CHeODkOeev",
        "colab": {
          "base_uri": "https://localhost:8080/"
        },
        "outputId": "b2367f78-a97e-4880-f60a-513c28a338f8"
      },
      "execution_count": 102,
      "outputs": [
        {
          "output_type": "execute_result",
          "data": {
            "text/plain": [
              "3"
            ]
          },
          "metadata": {},
          "execution_count": 102
        }
      ]
    },
    {
      "cell_type": "code",
      "source": [
        "# Can also mix object types\n",
        "t = ('one',2)\n",
        "\n",
        "# Show\n",
        "t"
      ],
      "metadata": {
        "id": "JFpUGNaCOaA2",
        "colab": {
          "base_uri": "https://localhost:8080/"
        },
        "outputId": "644c42bf-3ff9-4a70-efe0-ad93a9e538fe"
      },
      "execution_count": 103,
      "outputs": [
        {
          "output_type": "execute_result",
          "data": {
            "text/plain": [
              "('one', 2)"
            ]
          },
          "metadata": {},
          "execution_count": 103
        }
      ]
    },
    {
      "cell_type": "code",
      "source": [
        "# Use indexing just like we did in lists\n",
        "t[0]"
      ],
      "metadata": {
        "id": "jrK-XSP7OaJM",
        "colab": {
          "base_uri": "https://localhost:8080/",
          "height": 0
        },
        "outputId": "74df28c1-3a79-41f6-8dc2-2b3e788de01c"
      },
      "execution_count": 104,
      "outputs": [
        {
          "output_type": "execute_result",
          "data": {
            "application/vnd.google.colaboratory.intrinsic+json": {
              "type": "string"
            },
            "text/plain": [
              "'one'"
            ]
          },
          "metadata": {},
          "execution_count": 104
        }
      ]
    },
    {
      "cell_type": "code",
      "source": [
        "# Slicing just like a list\n",
        "t[-1]"
      ],
      "metadata": {
        "id": "X9-ZQZoHAa07",
        "colab": {
          "base_uri": "https://localhost:8080/"
        },
        "outputId": "7f517c36-6889-411e-842d-93f0217ba55f"
      },
      "execution_count": 105,
      "outputs": [
        {
          "output_type": "execute_result",
          "data": {
            "text/plain": [
              "2"
            ]
          },
          "metadata": {},
          "execution_count": 105
        }
      ]
    },
    {
      "cell_type": "markdown",
      "source": [
        "### Tuple Methods"
      ],
      "metadata": {
        "id": "FPkBiCy3Aat3"
      }
    },
    {
      "cell_type": "code",
      "source": [
        "t.index('one')"
      ],
      "metadata": {
        "id": "yMqOhw-6Aam_",
        "colab": {
          "base_uri": "https://localhost:8080/"
        },
        "outputId": "1261ffd1-125e-469f-80da-dfed57d884a5"
      },
      "execution_count": 106,
      "outputs": [
        {
          "output_type": "execute_result",
          "data": {
            "text/plain": [
              "0"
            ]
          },
          "metadata": {},
          "execution_count": 106
        }
      ]
    },
    {
      "cell_type": "code",
      "source": [
        "# Use .count to count the number of times a value appears\n",
        "t.count('one')"
      ],
      "metadata": {
        "id": "_tpggxw4AabE",
        "colab": {
          "base_uri": "https://localhost:8080/"
        },
        "outputId": "0860e225-b316-4b00-d2c5-3e12f92c992a"
      },
      "execution_count": 107,
      "outputs": [
        {
          "output_type": "execute_result",
          "data": {
            "text/plain": [
              "1"
            ]
          },
          "metadata": {},
          "execution_count": 107
        }
      ]
    },
    {
      "cell_type": "code",
      "source": [
        "t.count(2)"
      ],
      "metadata": {
        "id": "x7u5xP6OP5rp",
        "colab": {
          "base_uri": "https://localhost:8080/"
        },
        "outputId": "d8592af1-6b42-4d0d-e3a9-eed3c86a9bfb"
      },
      "execution_count": 108,
      "outputs": [
        {
          "output_type": "execute_result",
          "data": {
            "text/plain": [
              "1"
            ]
          },
          "metadata": {},
          "execution_count": 108
        }
      ]
    },
    {
      "cell_type": "markdown",
      "source": [
        "### Immutabilty\n",
        "\n",
        "It can't be stressed enough that tuples are immutable."
      ],
      "metadata": {
        "id": "xwdaAfKPP5H7"
      }
    },
    {
      "cell_type": "code",
      "source": [
        "# t[0]= 'change'"
      ],
      "metadata": {
        "id": "FOVhwkEdP8jY"
      },
      "execution_count": 109,
      "outputs": []
    },
    {
      "cell_type": "code",
      "source": [
        "# Because of this immutability, tuples can't grow. Once a tuple is made we can not add to it.\n",
        "#t.append('nope')"
      ],
      "metadata": {
        "id": "p4ZXcjTjP8W5"
      },
      "execution_count": 110,
      "outputs": []
    },
    {
      "cell_type": "code",
      "source": [
        ""
      ],
      "metadata": {
        "id": "20AgannJP8B5"
      },
      "execution_count": 110,
      "outputs": []
    }
  ]
}